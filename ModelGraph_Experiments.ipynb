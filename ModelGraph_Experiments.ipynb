{
  "nbformat": 4,
  "nbformat_minor": 0,
  "metadata": {
    "colab": {
      "provenance": [],
      "authorship_tag": "ABX9TyP//ZyIrauuCLWqa5+pnAZC",
      "include_colab_link": true
    },
    "kernelspec": {
      "name": "python3",
      "display_name": "Python 3"
    },
    "language_info": {
      "name": "python"
    }
  },
  "cells": [
    {
      "cell_type": "markdown",
      "metadata": {
        "id": "view-in-github",
        "colab_type": "text"
      },
      "source": [
        "<a href=\"https://colab.research.google.com/github/mbackschat/modelgraph-experiment/blob/main/ModelGraph_Experiments.ipynb\" target=\"_parent\"><img src=\"https://colab.research.google.com/assets/colab-badge.svg\" alt=\"Open In Colab\"/></a>"
      ]
    },
    {
      "cell_type": "code",
      "execution_count": null,
      "metadata": {
        "colab": {
          "base_uri": "https://localhost:8080/"
        },
        "id": "FrpXjdaJOug3",
        "outputId": "f9ff6324-32aa-457b-a4ae-55496ed00469"
      },
      "outputs": [
        {
          "output_type": "stream",
          "name": "stdout",
          "text": [
            "fatal: destination path 'modelgraph-experiment' already exists and is not an empty directory.\n"
          ]
        }
      ],
      "source": [
        "# prompt: Clone a github repo with content in the top level directory\n",
        "\n",
        "!git clone https://github.com/mbackschat/modelgraph-experiment\n"
      ]
    },
    {
      "cell_type": "code",
      "source": [],
      "metadata": {
        "id": "4SfFX4GaQmPm"
      },
      "execution_count": null,
      "outputs": []
    }
  ]
}